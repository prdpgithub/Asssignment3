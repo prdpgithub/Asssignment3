{
 "cells": [
  {
   "cell_type": "code",
   "execution_count": null,
   "id": "6cb3656a",
   "metadata": {},
   "outputs": [],
   "source": [
    "1. Why are functions advantageous to have in your programs?\n",
    "Ans.  Functions reduce the need for duplicate code. This makes programs shorter, easier to read, and easier to update. ... A function call is what moves the program execution into the function, and the function call evaluates to the function's return value."
   ]
  },
  {
   "cell_type": "code",
   "execution_count": null,
   "id": "b3c051c9",
   "metadata": {},
   "outputs": [],
   "source": [
    "2. When does the code in a function run: when it's specified or when it's called?\n",
    "Ans. When a function is \"called\" the program \"leaves\" the current section of code and begins to execute the first line inside the function."
   ]
  },
  {
   "cell_type": "code",
   "execution_count": null,
   "id": "45556cdb",
   "metadata": {},
   "outputs": [],
   "source": [
    "3. What statement creates a function?\n",
    "Ans. The “def” keyword is a statement for defining a function in Python. You start a function with the def keyword, specify a name followed by a colon (:) sign. The “def” call creates the function object and assigns it to the name given. You can further re-assign the same function object to other names."
   ]
  },
  {
   "cell_type": "code",
   "execution_count": null,
   "id": "94b0dc37",
   "metadata": {},
   "outputs": [],
   "source": [
    "4. What is the difference between a function and a function call? \n",
    "Ans. A function call means invoking or calling that function. Unless a function is called there is no use of that function. ... So the difference between the function and function call is, A function is procedure to achieve a particular result while function call is using this function to achive that task."
   ]
  },
  {
   "cell_type": "code",
   "execution_count": null,
   "id": "e21d0a29",
   "metadata": {},
   "outputs": [],
   "source": [
    "5. How many global scopes are there in a Python program? How many local scopes?\n",
    "Ans. Local Scope. A variable declared inside the function is called local function”. We can access a local variable inside but not outside the function.\n",
    "Global Scope. The variables that are declared in the global scope can be accessed from anywhere in the program."
   ]
  },
  {
   "cell_type": "code",
   "execution_count": null,
   "id": "b0de778e",
   "metadata": {},
   "outputs": [],
   "source": [
    "6. What happens to variables in a local scope when the function call returns?\n",
    "Ans. A local variable retains its value until the next time the function is called A local variable becomes undefined after the function call completes The local variable can be used outside the function any time after the function call completes."
   ]
  },
  {
   "cell_type": "code",
   "execution_count": null,
   "id": "54b1d798",
   "metadata": {},
   "outputs": [],
   "source": [
    "7. What is the concept of a return value? Is it possible to have a return value in an expression?\n",
    "Ans. A return is a value that a function returns to the calling script or function when it completes its task. A return value can be any one of the four variable types: handle, integer, object, or string. The type of value your function returns depends largely on the task it performs.If expression is omitted, the return value of the function is undefined."
   ]
  },
  {
   "cell_type": "code",
   "execution_count": null,
   "id": "26680f7f",
   "metadata": {},
   "outputs": [],
   "source": [
    "8. If a function does not have a return statement, what is the return value of a call to that function?\n",
    "Ans. If no return statement appears in a function definition, control automatically returns to the calling function after the last statement of the called function is executed. In this case, the return value of the called function is undefined"
   ]
  },
  {
   "cell_type": "code",
   "execution_count": null,
   "id": "b4c5fd22",
   "metadata": {},
   "outputs": [],
   "source": [
    "9. How do you make a function variable refer to the global variable?\n",
    "Ans. If you want to refer to a global variable in a function, you can use the global keyword to declare which variables are global."
   ]
  },
  {
   "cell_type": "code",
   "execution_count": null,
   "id": "87d99d58",
   "metadata": {},
   "outputs": [],
   "source": [
    "10. What is the data type of None?\n",
    "Ans. The None keyword is used to define a null variable or an object. In Python, None keyword is an object, and it is a data type of the class NoneType . We can assign None to any variable, but you can not create other NoneType objects. ... New instances of None are not created."
   ]
  },
  {
   "cell_type": "code",
   "execution_count": null,
   "id": "7e6f2a53",
   "metadata": {},
   "outputs": [],
   "source": [
    "11. What does the sentence import areallyourpetsnamederic do?\n",
    "Ans. That import statement imports a module named areallyourpetsnamederic."
   ]
  },
  {
   "cell_type": "code",
   "execution_count": null,
   "id": "1624eb73",
   "metadata": {},
   "outputs": [],
   "source": [
    "12. If you had a bacon() feature in a spam module, what would you call it after importing spam?\n",
    "Ans. This function can be called with spam.bacon()"
   ]
  },
  {
   "cell_type": "code",
   "execution_count": null,
   "id": "22cc5867",
   "metadata": {},
   "outputs": [],
   "source": [
    " 13. What can you do to save a programme from crashing if it encounters an error?\n",
    "    Ans. If an error occurs in a program, we don't want the program to unexpectedly crash on the user. Instead, error handling can be used to notify the user of why the error occurred and gracefully exit the process that caused the error."
   ]
  },
  {
   "cell_type": "code",
   "execution_count": null,
   "id": "5fe71827",
   "metadata": {},
   "outputs": [],
   "source": [
    "14. What is the purpose of the try clause? What is the purpose of the except clause?\n",
    "Ans. The try block allows you to test a block of code for errors. The except block enables you to handle the error with a user-defined responseIn the try clause, all statements are executed until an exception is encountered. except is used to catch and handle the exception(s) that are encountered in the try clause."
   ]
  }
 ],
 "metadata": {
  "kernelspec": {
   "display_name": "Python 3 (ipykernel)",
   "language": "python",
   "name": "python3"
  },
  "language_info": {
   "codemirror_mode": {
    "name": "ipython",
    "version": 3
   },
   "file_extension": ".py",
   "mimetype": "text/x-python",
   "name": "python",
   "nbconvert_exporter": "python",
   "pygments_lexer": "ipython3",
   "version": "3.9.7"
  }
 },
 "nbformat": 4,
 "nbformat_minor": 5
}
